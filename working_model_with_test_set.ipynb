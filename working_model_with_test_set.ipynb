{
 "cells": [
  {
   "cell_type": "code",
   "execution_count": 1,
   "metadata": {},
   "outputs": [],
   "source": [
    "import os\n",
    "import cv2\n",
    "import numpy as np\n",
    "import tensorflow as tf\n",
    "from tensorflow.keras import layers, models\n",
    "\n",
    "# Load the saved model\n",
    "model = tf.keras.models.load_model('model/model_working.h5')"
   ]
  },
  {
   "cell_type": "code",
   "execution_count": 2,
   "metadata": {},
   "outputs": [
    {
     "name": "stdout",
     "output_type": "stream",
     "text": [
      "Model: \"sequential_1\"\n",
      "_________________________________________________________________\n",
      "Layer (type)                 Output Shape              Param #   \n",
      "=================================================================\n",
      "conv2d_3 (Conv2D)            (None, 254, 254, 32)      896       \n",
      "_________________________________________________________________\n",
      "max_pooling2d_3 (MaxPooling2 (None, 127, 127, 32)      0         \n",
      "_________________________________________________________________\n",
      "conv2d_4 (Conv2D)            (None, 125, 125, 64)      18496     \n",
      "_________________________________________________________________\n",
      "max_pooling2d_4 (MaxPooling2 (None, 62, 62, 64)        0         \n",
      "_________________________________________________________________\n",
      "conv2d_5 (Conv2D)            (None, 60, 60, 128)       73856     \n",
      "_________________________________________________________________\n",
      "max_pooling2d_5 (MaxPooling2 (None, 30, 30, 128)       0         \n",
      "_________________________________________________________________\n",
      "flatten_1 (Flatten)          (None, 115200)            0         \n",
      "_________________________________________________________________\n",
      "dense_2 (Dense)              (None, 64)                7372864   \n",
      "_________________________________________________________________\n",
      "dense_3 (Dense)              (None, 65536)             4259840   \n",
      "_________________________________________________________________\n",
      "reshape_1 (Reshape)          (None, 256, 256, 1)       0         \n",
      "=================================================================\n",
      "Total params: 11,725,952\n",
      "Trainable params: 11,725,952\n",
      "Non-trainable params: 0\n",
      "_________________________________________________________________\n"
     ]
    }
   ],
   "source": [
    "#show the model\n",
    "model.summary()"
   ]
  },
  {
   "cell_type": "code",
   "execution_count": 3,
   "metadata": {},
   "outputs": [
    {
     "name": "stdout",
     "output_type": "stream",
     "text": [
      "Desirable object is detected in Screenshot_1.png.\n",
      "Desirable object is detected in Screenshot_10.png.\n",
      "Desirable object is NOT detected in Screenshot_11.png.\n",
      "Desirable object is detected in Screenshot_2.png.\n",
      "Desirable object is detected in Screenshot_3.png.\n",
      "Desirable object is detected in Screenshot_4.png.\n",
      "Desirable object is detected in Screenshot_5.png.\n",
      "Desirable object is detected in Screenshot_6.png.\n",
      "Desirable object is detected in Screenshot_7.png.\n",
      "Desirable object is detected in Screenshot_8.png.\n",
      "Desirable object is detected in Screenshot_9.png.\n"
     ]
    }
   ],
   "source": [
    "# Function to preprocess a single image\n",
    "def preprocess_image(image_path):\n",
    "    image = cv2.imread(image_path)\n",
    "    image = cv2.resize(image, (256, 256))\n",
    "    image = image / 255.0\n",
    "    return image\n",
    "\n",
    "# Function to create rectangles around detected objects\n",
    "def create_rectangles(image, mask):\n",
    "    # Find contours in the binary mask\n",
    "    contours, _ = cv2.findContours(mask, cv2.RETR_EXTERNAL, cv2.CHAIN_APPROX_SIMPLE)\n",
    "    \n",
    "    # Draw rectangles around the detected objects\n",
    "    for contour in contours:\n",
    "        x, y, w, h = cv2.boundingRect(contour)\n",
    "        cv2.rectangle(image, (x, y), (x + w, y + h), (0, 255, 0), 2)  # Green rectangle with 2-pixel width\n",
    "    \n",
    "    return image\n",
    "\n",
    "# Function to check if the object is detected\n",
    "def is_object_detected(mask, threshold=0.5):\n",
    "    return np.max(mask) > threshold\n",
    "\n",
    "# Directory containing the new unseen images\n",
    "new_images_dir = \"img/test/\"\n",
    "\n",
    "# Loop through the new images and make predictions\n",
    "for image_file in os.listdir(new_images_dir):\n",
    "    image_path = os.path.join(new_images_dir, image_file)\n",
    "    \n",
    "    # Preprocess the image\n",
    "    image = preprocess_image(image_path)\n",
    "    \n",
    "    # Make a prediction using the model\n",
    "    mask = model.predict(np.expand_dims(image, axis=0))[0]\n",
    "    \n",
    "    # Threshold the mask (if needed)\n",
    "    threshold = 0.5\n",
    "    binary_mask = (mask > threshold).astype(np.uint8)\n",
    "    \n",
    "    # Create rectangles around the objects in the original image\n",
    "    image_with_rectangles = create_rectangles(image.copy(), binary_mask)\n",
    "    \n",
    "    # Check if the desirable object is detected\n",
    "    if is_object_detected(binary_mask):\n",
    "        print(f\"Desirable object is detected in {image_file}.\")\n",
    "    else:\n",
    "        print(f\"Desirable object is NOT detected in {image_file}.\")\n",
    "    \n",
    "    # Display the image with rectangles\n",
    "    cv2.imshow(\"Image with Rectangles\", image_with_rectangles)\n",
    "    cv2.waitKey(0)\n",
    "    cv2.destroyAllWindows()"
   ]
  }
 ],
 "metadata": {
  "kernelspec": {
   "display_name": "base",
   "language": "python",
   "name": "python3"
  },
  "language_info": {
   "codemirror_mode": {
    "name": "ipython",
    "version": 3
   },
   "file_extension": ".py",
   "mimetype": "text/x-python",
   "name": "python",
   "nbconvert_exporter": "python",
   "pygments_lexer": "ipython3",
   "version": "3.9.13"
  },
  "orig_nbformat": 4
 },
 "nbformat": 4,
 "nbformat_minor": 2
}
