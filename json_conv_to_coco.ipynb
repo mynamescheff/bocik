{
 "cells": [
  {
   "cell_type": "code",
   "execution_count": 4,
   "metadata": {},
   "outputs": [],
   "source": [
    "import json\n",
    "from pycocotools import mask\n",
    "\n",
    "# Load your JSON annotations\n",
    "with open('annotations.json', 'r') as f:\n",
    "    json_data = json.load(f)\n",
    "\n",
    "# Create a new COCO-style annotations dictionary\n",
    "coco_data = {\n",
    "    'images': [],\n",
    "    'annotations': [],\n",
    "    'categories': [{\"id\": 1, \"name\": \"object\"}],  # Add category information\n",
    "}\n",
    "\n",
    "# Convert each image entry to COCO format\n",
    "for image_filename, annotation_bbox in json_data.items():\n",
    "    if annotation_bbox is None:\n",
    "        continue  # Skip annotations with null values\n",
    "\n",
    "    image_id = len(coco_data['images']) + 1\n",
    "    coco_image = {\n",
    "        'id': image_id,\n",
    "        'file_name': image_filename,\n",
    "        'height': annotation_bbox[3] - annotation_bbox[1],\n",
    "        'width': annotation_bbox[2] - annotation_bbox[0]\n",
    "    }\n",
    "    coco_data['images'].append(coco_image)\n",
    "\n",
    "    # Convert each annotation to COCO format\n",
    "    coco_annotation = {\n",
    "        'id': image_id,\n",
    "        'image_id': image_id,\n",
    "        'category_id': 1,  # Assuming only one category\n",
    "        'iscrowd': 0,\n",
    "        'bbox': annotation_bbox,  # [x, y, width, height]\n",
    "        'area': (annotation_bbox[2] - annotation_bbox[0]) * (annotation_bbox[3] - annotation_bbox[1])\n",
    "    }\n",
    "    coco_data['annotations'].append(coco_annotation)\n",
    "\n",
    "# Save COCO annotations to a JSON file\n",
    "with open('dataset_root/coco_annotations.json', 'w') as f:\n",
    "    json.dump(coco_data, f)\n"
   ]
  }
 ],
 "metadata": {
  "kernelspec": {
   "display_name": "base",
   "language": "python",
   "name": "python3"
  },
  "language_info": {
   "codemirror_mode": {
    "name": "ipython",
    "version": 3
   },
   "file_extension": ".py",
   "mimetype": "text/x-python",
   "name": "python",
   "nbconvert_exporter": "python",
   "pygments_lexer": "ipython3",
   "version": "3.9.13"
  },
  "orig_nbformat": 4
 },
 "nbformat": 4,
 "nbformat_minor": 2
}
