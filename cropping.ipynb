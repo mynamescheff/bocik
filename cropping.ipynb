{
 "cells": [
  {
   "cell_type": "code",
   "execution_count": 1,
   "metadata": {},
   "outputs": [],
   "source": [
    "import cv2 as cv\n",
    "import os"
   ]
  },
  {
   "cell_type": "code",
   "execution_count": 2,
   "metadata": {},
   "outputs": [
    {
     "name": "stdout",
     "output_type": "stream",
     "text": [
      "Cropped images saved.\n"
     ]
    }
   ],
   "source": [
    "# Path to the directory containing original images\n",
    "images_dir = 'img/not_labeled_stones/'\n",
    "\n",
    "# Path to the directory containing binary masks\n",
    "masks_dir = 'img/masks/'\n",
    "\n",
    "# Path to the directory to save cropped images\n",
    "cropped_dir = 'img/not_labeled_stones/cropped/'\n",
    "\n",
    "# Loop through all images in the directory\n",
    "for img_name in os.listdir(images_dir):\n",
    "    if img_name.endswith('.png'):\n",
    "        img_path = os.path.join(images_dir, img_name)\n",
    "        mask_path = os.path.join(masks_dir, img_name.replace('.png', '_mask.png'))\n",
    "        \n",
    "        # Load the original image and mask\n",
    "        img = cv.imread(img_path)\n",
    "        mask = cv.imread(mask_path, cv.IMREAD_GRAYSCALE)\n",
    "        \n",
    "        # Find contours in the mask\n",
    "        contours, _ = cv.findContours(mask, cv.RETR_EXTERNAL, cv.CHAIN_APPROX_SIMPLE)\n",
    "        \n",
    "        # Loop through each contour (object) in the mask\n",
    "        for contour in contours:\n",
    "            x, y, w, h = cv.boundingRect(contour)\n",
    "            \n",
    "            # Crop the object from the original image\n",
    "            cropped_obj = img[y:y+h, x:x+w]\n",
    "            \n",
    "            # Save the cropped object\n",
    "            cropped_path = os.path.join(cropped_dir, f'cropped_{img_name}')\n",
    "            cv.imwrite(cropped_path, cropped_obj)\n",
    "            \n",
    "print('Cropped images saved.')"
   ]
  }
 ],
 "metadata": {
  "kernelspec": {
   "display_name": "base",
   "language": "python",
   "name": "python3"
  },
  "language_info": {
   "codemirror_mode": {
    "name": "ipython",
    "version": 3
   },
   "file_extension": ".py",
   "mimetype": "text/x-python",
   "name": "python",
   "nbconvert_exporter": "python",
   "pygments_lexer": "ipython3",
   "version": "3.9.13"
  },
  "orig_nbformat": 4
 },
 "nbformat": 4,
 "nbformat_minor": 2
}
