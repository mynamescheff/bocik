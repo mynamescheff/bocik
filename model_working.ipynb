{
 "cells": [
  {
   "cell_type": "code",
   "execution_count": 1,
   "metadata": {},
   "outputs": [
    {
     "name": "stdout",
     "output_type": "stream",
     "text": [
      "Epoch 1/10\n",
      "6/6 [==============================] - 69s 143ms/step - loss: 0.6202 - accuracy: 0.7167 - val_loss: 0.1230 - val_accuracy: 0.9844\n",
      "Epoch 2/10\n",
      "6/6 [==============================] - 0s 41ms/step - loss: 0.1213 - accuracy: 0.9885 - val_loss: 0.2043 - val_accuracy: 0.9850\n",
      "Epoch 3/10\n",
      "6/6 [==============================] - 0s 41ms/step - loss: 0.1521 - accuracy: 0.9881 - val_loss: 0.1893 - val_accuracy: 0.9832\n",
      "Epoch 4/10\n",
      "6/6 [==============================] - 0s 41ms/step - loss: 0.1307 - accuracy: 0.9876 - val_loss: 0.1602 - val_accuracy: 0.9857\n",
      "Epoch 5/10\n",
      "6/6 [==============================] - 0s 41ms/step - loss: 0.1142 - accuracy: 0.9887 - val_loss: 0.1405 - val_accuracy: 0.9859\n",
      "Epoch 6/10\n",
      "6/6 [==============================] - 0s 41ms/step - loss: 0.0927 - accuracy: 0.9888 - val_loss: 0.1035 - val_accuracy: 0.9859\n",
      "Epoch 7/10\n",
      "6/6 [==============================] - 0s 41ms/step - loss: 0.0752 - accuracy: 0.9888 - val_loss: 0.0866 - val_accuracy: 0.9859\n",
      "Epoch 8/10\n",
      "6/6 [==============================] - 0s 41ms/step - loss: 0.0665 - accuracy: 0.9888 - val_loss: 0.0851 - val_accuracy: 0.9859\n",
      "Epoch 9/10\n",
      "6/6 [==============================] - 0s 40ms/step - loss: 0.0599 - accuracy: 0.9888 - val_loss: 0.0784 - val_accuracy: 0.9859\n",
      "Epoch 10/10\n",
      "6/6 [==============================] - 0s 42ms/step - loss: 0.0570 - accuracy: 0.9888 - val_loss: 0.0777 - val_accuracy: 0.9859\n"
     ]
    },
    {
     "data": {
      "text/plain": [
       "<tensorflow.python.keras.callbacks.History at 0x2692af4ad00>"
      ]
     },
     "execution_count": 1,
     "metadata": {},
     "output_type": "execute_result"
    }
   ],
   "source": [
    "import os\n",
    "import cv2\n",
    "import numpy as np\n",
    "import tensorflow as tf\n",
    "from tensorflow.keras import layers, models\n",
    "from sklearn.model_selection import train_test_split\n",
    "\n",
    "# Function to load and preprocess the images and masks\n",
    "def load_images_and_masks(images_dir, masks_dir):\n",
    "    images = []\n",
    "    masks = []\n",
    "    for image_file in os.listdir(images_dir):\n",
    "        image_path = os.path.join(images_dir, image_file)\n",
    "        mask_file = os.path.splitext(image_file)[0] + \"_mask.png\"\n",
    "        mask_path = os.path.join(masks_dir, mask_file)\n",
    "        \n",
    "        image = cv2.imread(image_path)\n",
    "        mask = cv2.imread(mask_path, cv2.IMREAD_GRAYSCALE)\n",
    "        \n",
    "        # Resize the image and mask to a common size (adjust as needed)\n",
    "        image = cv2.resize(image, (256, 256))\n",
    "        mask = cv2.resize(mask, (256, 256))\n",
    "        \n",
    "        # Normalize the pixel values to the range [0, 1]\n",
    "        image = image / 255.0\n",
    "        mask = mask / 255.0\n",
    "        \n",
    "        images.append(image)\n",
    "        masks.append(mask)\n",
    "    \n",
    "    images = np.array(images)\n",
    "    masks = np.array(masks)\n",
    "    \n",
    "    return images, masks\n",
    "\n",
    "# Specify the directories for annotated images and masks\n",
    "images_dir = \"img/not_labeled_stones\"\n",
    "masks_dir = \"masks/\"\n",
    "\n",
    "# Load and preprocess the images and masks\n",
    "images, masks = load_images_and_masks(images_dir, masks_dir)\n",
    "\n",
    "# Split the dataset into training and validation sets\n",
    "train_images, val_images, train_masks, val_masks = train_test_split(images, masks, test_size=0.2, random_state=42)\n",
    "\n",
    "# Define the CNN model architecture\n",
    "model = models.Sequential()\n",
    "model.add(layers.Conv2D(32, (3, 3), activation='relu', input_shape=(256, 256, 3)))\n",
    "model.add(layers.MaxPooling2D((2, 2)))\n",
    "model.add(layers.Conv2D(64, (3, 3), activation='relu'))\n",
    "model.add(layers.MaxPooling2D((2, 2)))\n",
    "model.add(layers.Conv2D(128, (3, 3), activation='relu'))\n",
    "model.add(layers.MaxPooling2D((2, 2)))\n",
    "model.add(layers.Flatten())\n",
    "model.add(layers.Dense(64, activation='relu'))\n",
    "model.add(layers.Dense(256 * 256, activation='sigmoid'))  # Output layer with sigmoid activation for binary masks\n",
    "model.add(layers.Reshape((256, 256, 1)))  # Reshape the output to match the mask dimensions\n",
    "\n",
    "# Compile the model\n",
    "model.compile(optimizer='adam', loss='binary_crossentropy', metrics=['accuracy'])\n",
    "\n",
    "# Train the model on the training set\n",
    "model.fit(train_images, train_masks, epochs=10, batch_size=16, validation_data=(val_images, val_masks))"
   ]
  },
  {
   "cell_type": "code",
   "execution_count": 2,
   "metadata": {},
   "outputs": [],
   "source": [
    "#save model\n",
    "model.save('model3.h5')"
   ]
  }
 ],
 "metadata": {
  "kernelspec": {
   "display_name": "base",
   "language": "python",
   "name": "python3"
  },
  "language_info": {
   "codemirror_mode": {
    "name": "ipython",
    "version": 3
   },
   "file_extension": ".py",
   "mimetype": "text/x-python",
   "name": "python",
   "nbconvert_exporter": "python",
   "pygments_lexer": "ipython3",
   "version": "3.9.13"
  },
  "orig_nbformat": 4
 },
 "nbformat": 4,
 "nbformat_minor": 2
}
