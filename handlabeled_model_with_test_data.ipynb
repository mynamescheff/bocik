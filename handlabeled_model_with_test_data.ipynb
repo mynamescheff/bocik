{
 "cells": [
  {
   "cell_type": "code",
   "execution_count": 3,
   "metadata": {},
   "outputs": [],
   "source": [
    "import os\n",
    "import cv2\n",
    "import numpy as np\n",
    "from tensorflow.keras.models import load_model\n",
    "\n",
    "# Function to preprocess test data\n",
    "def preprocess_test_data(images_dir, roi_size=64):\n",
    "    test_data = []\n",
    "    \n",
    "    for image_file in os.listdir(images_dir):\n",
    "        image_path = os.path.join(images_dir, image_file)\n",
    "        image = cv2.imread(image_path)\n",
    "        \n",
    "        # Resize and normalize the image\n",
    "        image = cv2.resize(image, (roi_size, roi_size)) / 255.0\n",
    "        test_data.append(image)\n",
    "    \n",
    "    test_data = np.array(test_data)\n",
    "    return test_data\n",
    "\n",
    "# Load the saved model\n",
    "model = load_model('model/model_with_handlabels.h5')\n",
    "\n",
    "# Specify the directory where the test images are located\n",
    "test_images_dir = \"img/test\""
   ]
  },
  {
   "cell_type": "code",
   "execution_count": 4,
   "metadata": {},
   "outputs": [
    {
     "name": "stdout",
     "output_type": "stream",
     "text": [
      "No object detected in the image.\n",
      "No object detected in the image.\n",
      "No object detected in the image.\n",
      "No object detected in the image.\n",
      "No object detected in the image.\n",
      "No object detected in the image.\n",
      "No object detected in the image.\n",
      "No object detected in the image.\n"
     ]
    }
   ],
   "source": [
    "# Preprocess the test data\n",
    "roi_size = 64\n",
    "test_data = preprocess_test_data(test_images_dir, roi_size)\n",
    "\n",
    "# Make predictions on the test data\n",
    "predictions = model.predict(test_data)\n",
    "\n",
    "# Threshold the predictions (assuming 0.5 as the threshold for positive detection)\n",
    "threshold = 0.5\n",
    "detected_objects = [1 if p[0] >= threshold else 0 for p in predictions]\n",
    "\n",
    "# Load test images for visualization\n",
    "test_images = []\n",
    "for image_file in os.listdir(test_images_dir):\n",
    "    image_path = os.path.join(test_images_dir, image_file)\n",
    "    image = cv2.imread(image_path)\n",
    "    test_images.append(image)\n",
    "\n",
    "# Visualize the test images with bounding boxes around detected objects\n",
    "for image, detection in zip(test_images, detected_objects):\n",
    "    if detection == 1:\n",
    "        # If object detected, get the bounding box coordinates\n",
    "        gray_image = cv2.cvtColor(image, cv2.COLOR_BGR2GRAY)\n",
    "        ret, binary_mask = cv2.threshold(gray_image, 1, 255, cv2.THRESH_BINARY)\n",
    "        contours, _ = cv2.findContours(binary_mask, cv2.RETR_EXTERNAL, cv2.CHAIN_APPROX_SIMPLE)\n",
    "        \n",
    "        for contour in contours:\n",
    "            x, y, w, h = cv2.boundingRect(contour)\n",
    "            cv2.rectangle(image, (x, y), (x+w, y+h), (0, 255, 0), 2)  # Draw a green bounding box\n",
    "    else:\n",
    "        print(\"No object detected in the image.\")\n",
    "\n",
    "    # Display the image with bounding box\n",
    "    cv2.imshow(\"Detected Objects\", image)\n",
    "    cv2.waitKey(0)\n",
    "    cv2.destroyAllWindows()"
   ]
  }
 ],
 "metadata": {
  "kernelspec": {
   "display_name": "base",
   "language": "python",
   "name": "python3"
  },
  "language_info": {
   "codemirror_mode": {
    "name": "ipython",
    "version": 3
   },
   "file_extension": ".py",
   "mimetype": "text/x-python",
   "name": "python",
   "nbconvert_exporter": "python",
   "pygments_lexer": "ipython3",
   "version": "3.9.13"
  },
  "orig_nbformat": 4
 },
 "nbformat": 4,
 "nbformat_minor": 2
}
